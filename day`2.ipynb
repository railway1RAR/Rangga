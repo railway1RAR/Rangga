{
  "nbformat": 4,
  "nbformat_minor": 0,
  "metadata": {
    "colab": {
      "provenance": []
    },
    "kernelspec": {
      "name": "python3",
      "display_name": "Python 3"
    },
    "language_info": {
      "name": "python"
    }
  },
  "cells": [
    {
      "cell_type": "code",
      "execution_count": 1,
      "metadata": {
        "id": "2p_ls6DAo-QM"
      },
      "outputs": [],
      "source": [
        "import numpy as np\n",
        "import pandas as pd\n",
        "import matplotlib as mpl\n",
        "import matplotlib.pyplot as plt\n",
        "import statistics\n",
        "from scipy.stats import t"
      ]
    },
    {
      "cell_type": "code",
      "source": [
        "customer_id = ['B818', 'A461', 'A092', 'A082', 'B341', 'A005', 'A092',\n",
        "               'A461','B219', 'B904', 'A901', 'A083', 'B904', 'A092',\n",
        "               'B341', 'B821','B341', 'B821', 'B904', 'B818', 'A901',\n",
        "               'A083', 'B818', 'A082','B219', 'B219', 'A083', 'A901',\n",
        "               'A082', 'B341', 'B341', 'A083','A082', 'B219', 'B439',\n",
        "               'A461', 'A005', 'A901', 'B341', 'A082','A083', 'A461',\n",
        "               'A083', 'A901', 'A461', 'A083', 'A082', 'A083','B341',\n",
        "               'A901', 'A082', 'A461', 'B219', 'A083', 'B818', 'B821',\n",
        "               'A092', 'B341', 'A461', 'A092', 'A083', 'B821', 'A092']"
      ],
      "metadata": {
        "id": "SbtsWNlZwc2d"
      },
      "execution_count": 2,
      "outputs": []
    },
    {
      "cell_type": "code",
      "source": [
        "uci = len(set(customer_id))\n",
        "print(uci)"
      ],
      "metadata": {
        "colab": {
          "base_uri": "https://localhost:8080/"
        },
        "id": "agKAa-YjmQ3X",
        "outputId": "7169b401-f7db-4771-b44c-9d9c34e3dd6f"
      },
      "execution_count": 3,
      "outputs": [
        {
          "output_type": "stream",
          "name": "stdout",
          "text": [
            "12\n"
          ]
        }
      ]
    },
    {
      "cell_type": "code",
      "source": [
        "Data = [\"1\", \"4\", \"9\", \"16\", \"25\", \"36\", \"49\", \"64\", \"81\", \"100\"]"
      ],
      "metadata": {
        "id": "uwZ7tdPmxJgF"
      },
      "execution_count": 4,
      "outputs": []
    },
    {
      "cell_type": "code",
      "source": [
        "a=Data[3]\n",
        "a"
      ],
      "metadata": {
        "colab": {
          "base_uri": "https://localhost:8080/",
          "height": 36
        },
        "id": "6sxJ0exXmYud",
        "outputId": "10e84eb9-1340-44a7-95ca-f30e3ed8d5ee"
      },
      "execution_count": 5,
      "outputs": [
        {
          "output_type": "execute_result",
          "data": {
            "text/plain": [
              "'16'"
            ],
            "application/vnd.google.colaboratory.intrinsic+json": {
              "type": "string"
            }
          },
          "metadata": {},
          "execution_count": 5
        }
      ]
    },
    {
      "cell_type": "code",
      "source": [
        "b=Data[5], Data[6], Data[7], Data[8]\n",
        "b"
      ],
      "metadata": {
        "colab": {
          "base_uri": "https://localhost:8080/"
        },
        "id": "CuBrIIKsn6ZQ",
        "outputId": "67d2ce78-ed67-4d58-8ff8-4e44c7bec755"
      },
      "execution_count": 6,
      "outputs": [
        {
          "output_type": "execute_result",
          "data": {
            "text/plain": [
              "('36', '49', '64', '81')"
            ]
          },
          "metadata": {},
          "execution_count": 6
        }
      ]
    },
    {
      "cell_type": "code",
      "source": [
        "c=Data[9], Data[8], Data[7], Data[6], Data[5], Data[4], Data[3], Data[2], Data[1], Data[0],\n",
        "c"
      ],
      "metadata": {
        "colab": {
          "base_uri": "https://localhost:8080/"
        },
        "id": "8YED5nX6o9z5",
        "outputId": "e878b32e-3072-4f98-e383-3342c2035451"
      },
      "execution_count": 7,
      "outputs": [
        {
          "output_type": "execute_result",
          "data": {
            "text/plain": [
              "('100', '81', '64', '49', '36', '25', '16', '9', '4', '1')"
            ]
          },
          "metadata": {},
          "execution_count": 7
        }
      ]
    },
    {
      "cell_type": "code",
      "source": [
        "provinsi = {'Nanggroe Aceh Darussalam': 'Aceh',\n",
        "            'Sumatera Selatan': 'Palembang',\n",
        "            'Kalimantan Barat': 'Pontianak',\n",
        "            'Jawa Timur': 'Madiun',\n",
        "            'Sulawesi Selatan': 'Makassar',\n",
        "            'Maluku': 'Ambon'}"
      ],
      "metadata": {
        "id": "NS76uSIIxR1V"
      },
      "execution_count": 8,
      "outputs": []
    },
    {
      "cell_type": "code",
      "source": [
        "keys = list(provinsi.keys())\n",
        "print(keys)"
      ],
      "metadata": {
        "colab": {
          "base_uri": "https://localhost:8080/"
        },
        "id": "XFGdOxydmbqz",
        "outputId": "4317c3e9-c34e-4a3d-b389-92c64094e8db"
      },
      "execution_count": 9,
      "outputs": [
        {
          "output_type": "stream",
          "name": "stdout",
          "text": [
            "['Nanggroe Aceh Darussalam', 'Sumatera Selatan', 'Kalimantan Barat', 'Jawa Timur', 'Sulawesi Selatan', 'Maluku']\n"
          ]
        }
      ]
    },
    {
      "cell_type": "code",
      "source": [
        "provinsi['Jawa Timur'] = 'Surabaya'\n",
        "print(provinsi)"
      ],
      "metadata": {
        "colab": {
          "base_uri": "https://localhost:8080/"
        },
        "id": "sjUFKtILrW9x",
        "outputId": "a5ab50bb-c70c-4623-e13a-cd9ad8457421"
      },
      "execution_count": 10,
      "outputs": [
        {
          "output_type": "stream",
          "name": "stdout",
          "text": [
            "{'Nanggroe Aceh Darussalam': 'Aceh', 'Sumatera Selatan': 'Palembang', 'Kalimantan Barat': 'Pontianak', 'Jawa Timur': 'Surabaya', 'Sulawesi Selatan': 'Makassar', 'Maluku': 'Ambon'}\n"
          ]
        }
      ]
    }
  ]
}